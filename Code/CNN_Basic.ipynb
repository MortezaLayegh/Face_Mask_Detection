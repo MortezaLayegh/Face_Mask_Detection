{
 "cells": [
  {
   "cell_type": "code",
   "execution_count": null,
   "metadata": {
    "id": "c1KWOB2AVKZK"
   },
   "outputs": [],
   "source": [
    "import random\n",
    "\n",
    "# Set the random seed \n",
    "random.seed(1234)"
   ]
  },
  {
   "cell_type": "code",
   "execution_count": null,
   "metadata": {
    "id": "rf6ynyXr981a"
   },
   "outputs": [],
   "source": [
    "device = 'cpu'"
   ]
  },
  {
   "cell_type": "code",
   "execution_count": null,
   "metadata": {
    "colab": {
     "base_uri": "https://localhost:8080/"
    },
    "id": "Ia02qBLdKSwM",
    "outputId": "ec9f1233-6059-4079-9fb7-1f3070ef25eb"
   },
   "outputs": [
    {
     "name": "stdout",
     "output_type": "stream",
     "text": [
      "Mounted at /content/drive\n"
     ]
    }
   ],
   "source": [
    "from google.colab import drive\n",
    "drive.mount('/content/drive')"
   ]
  },
  {
   "cell_type": "code",
   "execution_count": null,
   "metadata": {
    "colab": {
     "base_uri": "https://localhost:8080/"
    },
    "id": "vIzZDlOFKUQS",
    "outputId": "6c23b21e-8944-48f7-c8de-4087f18fe01d"
   },
   "outputs": [
    {
     "name": "stdout",
     "output_type": "stream",
     "text": [
      "['Video', 'Code', 'CW_Dataset', 'Models', 'test_functions.ipynb']\n"
     ]
    }
   ],
   "source": [
    "import os\n",
    "\n",
    "# TODO: Fill in the Google Drive path where you uploaded the CW_folder_PG\n",
    "# Example: GOOGLE_DRIVE_PATH_AFTER_MYDRIVE = 'Colab Notebooks/Computer Vision/CW_folder_PG'\n",
    "\n",
    "GOOGLE_DRIVE_PATH_AFTER_MYDRIVE = 'CW_Folder_PG' \n",
    "GOOGLE_DRIVE_PATH = os.path.join('drive', 'My Drive', GOOGLE_DRIVE_PATH_AFTER_MYDRIVE)\n",
    "print(os.listdir(GOOGLE_DRIVE_PATH))"
   ]
  },
  {
   "cell_type": "markdown",
   "metadata": {
    "id": "Eyw3rNMrTzWk"
   },
   "source": [
    "# Unzip and creating directory format of the dataset\n",
    "In this section, we unzip the provided dataset, create a directory called 'dataset' with three subfolders: 'Train', 'Test', and 'Validation'. Within each subfolder, we have three additional subfolders for each image class labeled as 0, 1, and 2"
   ]
  },
  {
   "cell_type": "code",
   "execution_count": null,
   "metadata": {
    "id": "lYEktPXrKWNi"
   },
   "outputs": [],
   "source": [
    "import os\n",
    "# Identify path to zipped dataset\n",
    "zip_path = os.path.join(GOOGLE_DRIVE_PATH, 'CW_Dataset/CV2023_CW_Dataset.zip')\n",
    "\n",
    "# Copy it to Colab\n",
    "!cp '{zip_path}' .\n",
    "\n",
    "# Unzip it (removing useless files stored in the zip)\n",
    "!yes|unzip -q CV2023_CW_Dataset.zip\n",
    "\n",
    "# Delete zipped version from Colab (not from Drive)\n",
    "!rm CV2023_CW_Dataset.zip\n"
   ]
  },
  {
   "cell_type": "code",
   "execution_count": null,
   "metadata": {
    "id": "Qiyys_UqTyli"
   },
   "outputs": [],
   "source": [
    "import os\n",
    "import shutil\n",
    "\n",
    "train_path = \"./train/\"\n",
    "\n",
    "\n",
    "# Define path to the labels folder inside the train folder\n",
    "train_labels_path = os.path.join(train_path, \"labels\")\n",
    "\n",
    "# Define path to the images folder inside the train folder\n",
    "train_images_path = os.path.join(train_path, \"images\")\n",
    "\n",
    "# Create the folders for each class (0, 1, 2) inside the train folder\n",
    "for class_id in range(3):\n",
    "    class_path = os.path.join(train_path, str(class_id))\n",
    "    os.makedirs(class_path, exist_ok=True)\n",
    "\n",
    "# Loop through each image in the train images folder and move them to the appropriate class folder\n",
    "for image_name in os.listdir(train_images_path):\n",
    "    image_path = os.path.join(train_images_path, image_name)\n",
    "    label_path = os.path.join(train_labels_path, image_name[:-5] + \".txt\")  \n",
    "    with open(label_path, \"r\") as f:\n",
    "        label = int(f.read())\n",
    "    class_path = os.path.join(train_path, str(label))\n",
    "    shutil.move(image_path, os.path.join(class_path, image_name))"
   ]
  },
  {
   "cell_type": "code",
   "execution_count": null,
   "metadata": {
    "id": "80Vw42kfUCvC"
   },
   "outputs": [],
   "source": [
    "\n",
    "# Define path to test folder inside the dataset\n",
    "#test_path = os.path.join(dataset_path, \"test\")\n",
    "test_path = \"./test/\"\n",
    "\n",
    "# Define path to the labels folder inside the test folder\n",
    "test_labels_path = os.path.join(test_path, \"labels\")\n",
    "\n",
    "# Define path to the images folder inside the test folder\n",
    "test_images_path = os.path.join(test_path, \"images\")\n",
    "\n",
    "# Create the folders for each class (0, 1, 2) inside the test folder\n",
    "for class_id in range(3):\n",
    "    class_path = os.path.join(test_path, str(class_id))\n",
    "    os.makedirs(class_path, exist_ok=True)\n",
    "\n",
    "# Loop through each image in the test images folder and move them to the appropriate class folder\n",
    "for image_name in os.listdir(test_images_path):\n",
    "    image_path = os.path.join(test_images_path, image_name)\n",
    "    label_path = os.path.join(test_labels_path, image_name[:-5] + \".txt\") \n",
    "    with open(label_path, \"r\") as f:\n",
    "        label = int(f.read())\n",
    "    class_path = os.path.join(test_path, str(label))\n",
    "    shutil.move(image_path, os.path.join(class_path, image_name))"
   ]
  },
  {
   "cell_type": "code",
   "execution_count": null,
   "metadata": {
    "id": "RLJ0VmUMUCxp"
   },
   "outputs": [],
   "source": [
    "# Delete the images and labels folders inside the train and test folders\n",
    "shutil.rmtree(train_images_path)\n",
    "shutil.rmtree(train_labels_path)\n",
    "shutil.rmtree(test_images_path)\n",
    "shutil.rmtree(test_labels_path)"
   ]
  },
  {
   "cell_type": "code",
   "execution_count": null,
   "metadata": {
    "colab": {
     "base_uri": "https://localhost:8080/",
     "height": 54
    },
    "id": "HYPbDMo_UC0g",
    "outputId": "722eaf90-cc69-4026-a228-d6c11ef793e8"
   },
   "outputs": [
    {
     "name": "stdout",
     "output_type": "stream",
     "text": [
      "Current Directory:  /content\n"
     ]
    },
    {
     "data": {
      "application/vnd.google.colaboratory.intrinsic+json": {
       "type": "string"
      },
      "text/plain": [
       "'/content/dataset/train'"
      ]
     },
     "execution_count": 10,
     "metadata": {},
     "output_type": "execute_result"
    }
   ],
   "source": [
    "import os\n",
    "\n",
    "\n",
    "# Get the current directory\n",
    "current_dir = os.getcwd()\n",
    "\n",
    "# Print the current directory\n",
    "print(\"Current Directory: \", current_dir)\n",
    "\n",
    "#shutil.rmtree('dataset')\n",
    "\n",
    "## Create the directory\n",
    "os.mkdir('dataset')\n",
    "\n",
    "shutil.move('/content/test','/content/dataset')\n",
    "shutil.move('/content/train','/content/dataset')"
   ]
  },
  {
   "cell_type": "code",
   "execution_count": null,
   "metadata": {
    "id": "nh-dklVWUC3U"
   },
   "outputs": [],
   "source": [
    "import os\n",
    "import shutil\n",
    "import random\n",
    "\n",
    "# Set the path to the dataset folder\n",
    "dataset_path = \"dataset\"\n",
    "\n",
    "# Set the percentage of images to move to the validation folder\n",
    "validation_percentage = 0.25\n",
    "\n",
    "# Loop through the train folder\n",
    "for class_folder in os.listdir(os.path.join(dataset_path, \"train\")):\n",
    "    class_folder_path = os.path.join(dataset_path, \"train\", class_folder)\n",
    "    if os.path.isdir(class_folder_path):\n",
    "        # Get the list of images in the current class folder\n",
    "        images = os.listdir(class_folder_path)\n",
    "        # Calculate the number of images to move to the validation folder\n",
    "        num_images = len(images)\n",
    "        num_validation_images = int(num_images * validation_percentage)\n",
    "        # Randomly select images to move to the validation folder\n",
    "        validation_images = random.sample(images, num_validation_images)\n",
    "        # Create the validation folder if it doesn't exist\n",
    "        validation_folder_path = os.path.join(dataset_path, \"val\", class_folder)\n",
    "        os.makedirs(validation_folder_path, exist_ok=True)\n",
    "        # Move the selected images to the validation folder\n",
    "        for image in validation_images:\n",
    "            src = os.path.join(class_folder_path, image)\n",
    "            dst = os.path.join(validation_folder_path, image)\n",
    "            shutil.move(src, dst)\n",
    "           "
   ]
  },
  {
   "cell_type": "markdown",
   "metadata": {
    "id": "_nX9SfKaVCsN"
   },
   "source": [
    "# libraries"
   ]
  },
  {
   "cell_type": "code",
   "execution_count": null,
   "metadata": {
    "id": "JKT5YVxkKfdb"
   },
   "outputs": [],
   "source": [
    "# License: BSD\n",
    "# Author: Sasank Chilamkurthy\n",
    "# Modified by: Giacomo Tarroni\n",
    "\n",
    "import torch\n",
    "import torch.nn as nn\n",
    "import torch.optim as optim\n",
    "from torch.optim import lr_scheduler\n",
    "import numpy as np\n",
    "import torchvision\n",
    "from torchvision import datasets, models, transforms\n",
    "import matplotlib.pyplot as plt\n",
    "import time\n",
    "import copy\n",
    "import os\n",
    "%matplotlib inline\n",
    "import random\n",
    "import cv2\n",
    "\n",
    "# Set the random seed \n",
    "random.seed(1234)"
   ]
  },
  {
   "cell_type": "markdown",
   "metadata": {
    "id": "-yvz5dzAW3cp"
   },
   "source": [
    "# Preprocessing & Loading "
   ]
  },
  {
   "cell_type": "code",
   "execution_count": null,
   "metadata": {
    "id": "TCSKNj7seMKB"
   },
   "outputs": [],
   "source": [
    "\n",
    "def calculate_mean_std(dataset_path, image_size=(32, 32)):\n",
    "  \n",
    "    image_files = []\n",
    "    for label in [\"0\", \"1\", \"2\"]:\n",
    "        label_folder = os.path.join(dataset_path, label)\n",
    "        image_files.extend([os.path.join(label_folder, img_file) for img_file in os.listdir(label_folder)])\n",
    "\n",
    "    # Load, resize, and normalize images\n",
    "    images = []\n",
    "    for img_file in image_files:\n",
    "        image = cv2.imread(img_file)\n",
    "        image = cv2.resize(image, image_size)\n",
    "        image = image / 255.0  # Normalize pixel values between 0 and 1\n",
    "        images.append(image)\n",
    "\n",
    "    # Calculate mean and standard deviation of RGB channels\n",
    "    images = np.stack(images, axis=0)\n",
    "    mean = np.mean(images, axis=(0, 1, 2))\n",
    "    std = np.std(images, axis=(0, 1, 2))\n",
    "\n",
    "    return mean, std\n"
   ]
  },
  {
   "cell_type": "code",
   "execution_count": null,
   "metadata": {
    "colab": {
     "base_uri": "https://localhost:8080/"
    },
    "id": "xowsR4Q7K8nd",
    "outputId": "a8075198-a4e4-4076-8823-65b2c561161e"
   },
   "outputs": [
    {
     "name": "stdout",
     "output_type": "stream",
     "text": [
      "[0.43909345 0.45864455 0.50142335]\n",
      "[0.25572256 0.24742788 0.24570424]\n"
     ]
    }
   ],
   "source": [
    "train_path = 'dataset/train'\n",
    "data_means,data_stds = calculate_mean_std(train_path)\n",
    "\n",
    "print(data_means)\n",
    "print(data_stds)\n",
    "# data_means = [0.485, 0.456, 0.406]\n",
    "# data_stds = [0.229, 0.224, 0.225]"
   ]
  },
  {
   "cell_type": "code",
   "execution_count": null,
   "metadata": {
    "id": "dHjs27l0LDzF"
   },
   "outputs": [],
   "source": [
    "\n",
    "data_transforms = {\n",
    "    'train': transforms.Compose([\n",
    "        transforms.RandomResizedCrop(32),\n",
    "        transforms.RandomHorizontalFlip(),\n",
    "        transforms.ToTensor(),\n",
    "        transforms.Normalize(data_means, data_stds)\n",
    "    ]),\n",
    "    'val': transforms.Compose([\n",
    "        transforms.Resize(32),\n",
    "        transforms.CenterCrop(32),\n",
    "        transforms.ToTensor(),\n",
    "        transforms.Normalize(data_means, data_stds)\n",
    "    ]),\n",
    "    'test': transforms.Compose([\n",
    "        transforms.Resize(32),\n",
    "        transforms.CenterCrop(32),\n",
    "        transforms.ToTensor(),\n",
    "        transforms.Normalize(data_means, data_stds)\n",
    "    ]),\n",
    "}"
   ]
  },
  {
   "cell_type": "code",
   "execution_count": null,
   "metadata": {
    "id": "QBpx1YrjKoAS"
   },
   "outputs": [],
   "source": [
    "data_dir ='dataset'\n",
    "image_datasets = {x: datasets.ImageFolder(os.path.join(data_dir, x),\n",
    "                                          data_transforms[x])\n",
    "                  for x in ['train', 'val','test']}\n",
    "dataloaders = {x: torch.utils.data.DataLoader(image_datasets[x], batch_size=4,\n",
    "                                             shuffle=True, num_workers=2)\n",
    "              for x in ['train', 'val','test']}"
   ]
  },
  {
   "cell_type": "code",
   "execution_count": null,
   "metadata": {
    "colab": {
     "base_uri": "https://localhost:8080/"
    },
    "id": "pcJ4lRtrKvFO",
    "outputId": "3ae89622-38f8-4569-efb2-3f764e638067"
   },
   "outputs": [
    {
     "name": "stdout",
     "output_type": "stream",
     "text": [
      "['0', '1', '2']\n",
      "{'train': 1796, 'val': 598, 'test': 458}\n"
     ]
    }
   ],
   "source": [
    "dataset_sizes = {x: len(image_datasets[x]) for x in ['train', 'val', 'test']}\n",
    "class_names = image_datasets['train'].classes\n",
    "\n",
    "print(class_names)\n",
    "print(dataset_sizes)\n"
   ]
  },
  {
   "cell_type": "code",
   "execution_count": null,
   "metadata": {
    "colab": {
     "base_uri": "https://localhost:8080/"
    },
    "id": "ILmZSjMzLJ14",
    "outputId": "217715e5-85dc-445e-c687-08a20c8cefb6"
   },
   "outputs": [
    {
     "name": "stdout",
     "output_type": "stream",
     "text": [
      "Training set size (num images) 1796\n",
      "Testing set size (num images) 458\n",
      "validation set size (num images) 598\n"
     ]
    }
   ],
   "source": [
    "\n",
    "trainset =image_datasets['train']\n",
    "testset = image_datasets['test']\n",
    "valset = image_datasets['val']\n",
    "\n",
    "print('Training set size (num images)', len(trainset))\n",
    "print('Testing set size (num images)', len(testset))\n",
    "print('validation set size (num images)', len(valset))"
   ]
  },
  {
   "cell_type": "code",
   "execution_count": null,
   "metadata": {
    "colab": {
     "base_uri": "https://localhost:8080/"
    },
    "id": "1uMnfnYCN3f1",
    "outputId": "8b55a517-401b-4114-a3fe-6c7c51df304d"
   },
   "outputs": [
    {
     "name": "stdout",
     "output_type": "stream",
     "text": [
      "['0', '1', '2']\n"
     ]
    }
   ],
   "source": [
    "classes = trainset.classes\n",
    "print(classes)"
   ]
  },
  {
   "cell_type": "code",
   "execution_count": null,
   "metadata": {
    "id": "evrkVrgLLr84"
   },
   "outputs": [],
   "source": [
    "trainloader = dataloaders['train']\n",
    "testloader = dataloaders['test']\n",
    "valloader = dataloaders['val']"
   ]
  },
  {
   "cell_type": "code",
   "execution_count": null,
   "metadata": {
    "colab": {
     "base_uri": "https://localhost:8080/"
    },
    "id": "wU9_RHD1NVFa",
    "outputId": "f96e18b8-57f2-4331-975d-8f0ea11a90fb"
   },
   "outputs": [
    {
     "name": "stdout",
     "output_type": "stream",
     "text": [
      "Training set size (num mini-batches) 449\n",
      "Testing set size (num mini-batches) 115\n",
      "Validation set size (num mini-batches) 150\n"
     ]
    }
   ],
   "source": [
    "print('Training set size (num mini-batches)', len(trainloader))\n",
    "print('Testing set size (num mini-batches)', len(testloader))\n",
    "print('Validation set size (num mini-batches)', len(valloader))\n",
    "\n"
   ]
  },
  {
   "cell_type": "markdown",
   "metadata": {
    "id": "hDefn5OxZ9q7"
   },
   "source": [
    "### visualize some random batches "
   ]
  },
  {
   "cell_type": "code",
   "execution_count": null,
   "metadata": {
    "colab": {
     "base_uri": "https://localhost:8080/",
     "height": 229
    },
    "id": "tqcD0DQzNqY7",
    "outputId": "987e4002-1b4e-4182-9856-c691957e895d"
   },
   "outputs": [
    {
     "name": "stderr",
     "output_type": "stream",
     "text": [
      "WARNING:matplotlib.image:Clipping input data to the valid range for imshow with RGB data ([0..1] for floats or [0..255] for integers).\n"
     ]
    },
    {
     "data": {
      "image/png": "[encoded data removed]",
      "text/plain": [
       "<Figure size 640x480 with 1 Axes>"
      ]
     },
     "metadata": {},
     "output_type": "display_data"
    },
    {
     "name": "stdout",
     "output_type": "stream",
     "text": [
      "Ground-truth: ['1', '1', '1', '1']\n"
     ]
    }
   ],
   "source": [
    "import matplotlib.pyplot as plt\n",
    "import numpy as np\n",
    "# the function is adapted from lab 9\n",
    "# function to show an image\n",
    "def imshow(img):\n",
    "    img = img / 2 + 0.5     # Unnormalize: back to range [0, 1] just for showing the images\n",
    "    npimg = img.numpy()\n",
    "    plt.imshow(np.transpose(npimg, (1, 2, 0)))     # Reshape: C, H, W -> H, W, C\n",
    "    plt.show()\n",
    "\n",
    "\n",
    "# get some random training images\n",
    "dataiter = iter(trainloader)\n",
    "images, labels = next(dataiter)\n",
    "\n",
    "# show images and print labels\n",
    "imshow(torchvision.utils.make_grid(images))\n",
    "first_labels = [classes[label] for label in labels]\n",
    "print('Ground-truth:', first_labels)"
   ]
  },
  {
   "cell_type": "markdown",
   "metadata": {
    "id": "TUcsrh1oaRit"
   },
   "source": [
    "# CNN Architecture\n",
    "An architecture similar to [LeNet](http://vision.stanford.edu/cs598_spring07/papers/Lecun98.pdf) [LeCun et al. 98]:"
   ]
  },
  {
   "cell_type": "code",
   "execution_count": null,
   "metadata": {
    "id": "VUUWwhjyz5ep"
   },
   "outputs": [],
   "source": [
    "import torch.nn as nn\n",
    "import torch.nn.functional as F\n",
    "torch.manual_seed(1234)\n",
    "# the architecture is adapted from lab 8 computer vision\n",
    "\n",
    "\n",
    "class Net(nn.Module):\n",
    "    def __init__(self):\n",
    "        super(Net, self).__init__()\n",
    "        self.conv1 = nn.Conv2d(3, 6, 5)\n",
    "        self.bn1 = nn.BatchNorm2d(6)\n",
    "        self.pool = nn.MaxPool2d(2, 2)\n",
    "        self.conv2 = nn.Conv2d(6, 16, 5)\n",
    "        self.bn2 = nn.BatchNorm2d(16) \n",
    "        self.fc1 = nn.Linear(16 * 5 * 5, 120)\n",
    "        self.fc2 = nn.Linear(120, 84)\n",
    "        self.fc3 = nn.Linear(84, 3)\n",
    "\n",
    "    def forward(self, x):\n",
    "        x = self.pool(F.relu(self.bn1(self.conv1(x))))\n",
    "        x = self.pool(F.relu(self.bn2(self.conv2(x))))\n",
    "        x = x.view(-1, 16 * 5 * 5)\n",
    "        x = F.relu(self.fc1(x))\n",
    "        x = F.relu(self.fc2(x))\n",
    "        x = self.fc3(x)\n",
    "        return x\n",
    "\n",
    "net = Net()\n",
    "\n"
   ]
  },
  {
   "cell_type": "markdown",
   "metadata": {
    "id": "CzqOZKrAafPF"
   },
   "source": [
    "# Loss function & optimizer"
   ]
  },
  {
   "cell_type": "code",
   "execution_count": null,
   "metadata": {
    "id": "NOJd_Z4tOp68"
   },
   "outputs": [],
   "source": [
    "import torch.optim as optim\n",
    "\n",
    "criterion = nn.CrossEntropyLoss()\n",
    "optimizer = optim.SGD(net.parameters(), lr=0.001, momentum=0.9)"
   ]
  },
  {
   "cell_type": "markdown",
   "metadata": {
    "id": "ywozmMeyanuk"
   },
   "source": [
    "# Train The CNN"
   ]
  },
  {
   "cell_type": "code",
   "execution_count": null,
   "metadata": {
    "colab": {
     "base_uri": "https://localhost:8080/"
    },
    "id": "f7RVnRoLfa6A",
    "outputId": "03b4dc8c-69bf-4fcb-c149-9a560449c9db"
   },
   "outputs": [
    {
     "name": "stdout",
     "output_type": "stream",
     "text": [
      "[1,   339] train loss: 0.264\n",
      "Validation: Epoch [1], Loss: 0.201, Accuracy: 93.14%\n",
      "[2,   339] train loss: 0.259\n",
      "Validation: Epoch [2], Loss: 0.209, Accuracy: 93.48%\n",
      "[3,   339] train loss: 0.250\n",
      "Validation: Epoch [3], Loss: 0.204, Accuracy: 92.98%\n",
      "[4,   339] train loss: 0.265\n",
      "Validation: Epoch [4], Loss: 0.193, Accuracy: 93.98%\n",
      "[5,   339] train loss: 0.255\n",
      "Validation: Epoch [5], Loss: 0.195, Accuracy: 93.65%\n",
      "[6,   339] train loss: 0.252\n",
      "Validation: Epoch [6], Loss: 0.184, Accuracy: 93.48%\n",
      "[7,   339] train loss: 0.244\n",
      "Validation: Epoch [7], Loss: 0.199, Accuracy: 93.31%\n",
      "[8,   339] train loss: 0.247\n",
      "Validation: Epoch [8], Loss: 0.184, Accuracy: 93.81%\n",
      "[9,   339] train loss: 0.238\n",
      "Validation: Epoch [9], Loss: 0.171, Accuracy: 93.81%\n",
      "[10,   339] train loss: 0.233\n",
      "Validation: Epoch [10], Loss: 0.185, Accuracy: 93.65%\n",
      "[11,   339] train loss: 0.248\n",
      "Validation: Epoch [11], Loss: 0.178, Accuracy: 93.48%\n",
      "[12,   339] train loss: 0.261\n",
      "Validation: Epoch [12], Loss: 0.175, Accuracy: 93.98%\n",
      "[13,   339] train loss: 0.252\n",
      "Validation: Epoch [13], Loss: 0.199, Accuracy: 93.65%\n",
      "[14,   339] train loss: 0.253\n",
      "Validation: Epoch [14], Loss: 0.179, Accuracy: 94.15%\n",
      "[15,   339] train loss: 0.257\n",
      "Validation: Epoch [15], Loss: 0.163, Accuracy: 94.65%\n",
      "[16,   339] train loss: 0.250\n",
      "Validation: Epoch [16], Loss: 0.210, Accuracy: 94.15%\n",
      "[17,   339] train loss: 0.254\n",
      "Validation: Epoch [17], Loss: 0.211, Accuracy: 93.31%\n",
      "[18,   339] train loss: 0.249\n",
      "Validation: Epoch [18], Loss: 0.183, Accuracy: 94.48%\n",
      "[19,   339] train loss: 0.247\n",
      "Validation: Epoch [19], Loss: 0.188, Accuracy: 93.65%\n",
      "[20,   339] train loss: 0.258\n",
      "Validation: Epoch [20], Loss: 0.203, Accuracy: 93.65%\n",
      "[21,   339] train loss: 0.244\n",
      "Validation: Epoch [21], Loss: 0.173, Accuracy: 94.15%\n",
      "[22,   339] train loss: 0.253\n",
      "Validation: Epoch [22], Loss: 0.188, Accuracy: 92.98%\n",
      "[23,   339] train loss: 0.258\n",
      "Validation: Epoch [23], Loss: 0.181, Accuracy: 93.48%\n",
      "[24,   339] train loss: 0.234\n",
      "Validation: Epoch [24], Loss: 0.175, Accuracy: 94.48%\n",
      "[25,   339] train loss: 0.264\n",
      "Validation: Epoch [25], Loss: 0.184, Accuracy: 93.31%\n",
      "[26,   339] train loss: 0.251\n",
      "Validation: Epoch [26], Loss: 0.193, Accuracy: 93.81%\n",
      "[27,   339] train loss: 0.272\n",
      "Validation: Epoch [27], Loss: 0.191, Accuracy: 93.65%\n",
      "[28,   339] train loss: 0.243\n",
      "Validation: Epoch [28], Loss: 0.170, Accuracy: 94.31%\n",
      "[29,   339] train loss: 0.245\n",
      "Validation: Epoch [29], Loss: 0.180, Accuracy: 94.31%\n",
      "[30,   339] train loss: 0.247\n",
      "Validation: Epoch [30], Loss: 0.170, Accuracy: 93.81%\n",
      "[31,   339] train loss: 0.237\n",
      "Validation: Epoch [31], Loss: 0.172, Accuracy: 94.65%\n",
      "[32,   339] train loss: 0.246\n",
      "Validation: Epoch [32], Loss: 0.166, Accuracy: 93.81%\n",
      "[33,   339] train loss: 0.234\n",
      "Validation: Epoch [33], Loss: 0.170, Accuracy: 93.81%\n",
      "[34,   339] train loss: 0.227\n",
      "Validation: Epoch [34], Loss: 0.197, Accuracy: 93.31%\n",
      "[35,   339] train loss: 0.245\n",
      "Validation: Epoch [35], Loss: 0.173, Accuracy: 94.15%\n",
      "[36,   339] train loss: 0.248\n",
      "Validation: Epoch [36], Loss: 0.194, Accuracy: 92.64%\n",
      "[37,   339] train loss: 0.229\n",
      "Validation: Epoch [37], Loss: 0.167, Accuracy: 94.15%\n",
      "[38,   339] train loss: 0.234\n",
      "Validation: Epoch [38], Loss: 0.167, Accuracy: 94.48%\n",
      "[39,   339] train loss: 0.233\n",
      "Validation: Epoch [39], Loss: 0.187, Accuracy: 93.31%\n",
      "[40,   339] train loss: 0.217\n",
      "Validation: Epoch [40], Loss: 0.170, Accuracy: 93.98%\n",
      "[41,   339] train loss: 0.235\n",
      "Validation: Epoch [41], Loss: 0.171, Accuracy: 94.31%\n",
      "[42,   339] train loss: 0.227\n",
      "Validation: Epoch [42], Loss: 0.180, Accuracy: 93.81%\n",
      "[43,   339] train loss: 0.226\n",
      "Validation: Epoch [43], Loss: 0.163, Accuracy: 94.31%\n",
      "[44,   339] train loss: 0.241\n",
      "Validation: Epoch [44], Loss: 0.172, Accuracy: 94.48%\n",
      "[45,   339] train loss: 0.220\n",
      "Validation: Epoch [45], Loss: 0.169, Accuracy: 94.65%\n",
      "[46,   339] train loss: 0.223\n",
      "Validation: Epoch [46], Loss: 0.159, Accuracy: 94.48%\n",
      "[47,   339] train loss: 0.234\n",
      "Validation: Epoch [47], Loss: 0.150, Accuracy: 95.15%\n",
      "[48,   339] train loss: 0.240\n",
      "Validation: Epoch [48], Loss: 0.165, Accuracy: 94.31%\n",
      "[49,   339] train loss: 0.231\n",
      "Validation: Epoch [49], Loss: 0.175, Accuracy: 94.15%\n",
      "[50,   339] train loss: 0.238\n",
      "Validation: Epoch [50], Loss: 0.180, Accuracy: 94.15%\n",
      "[51,   339] train loss: 0.225\n",
      "Validation: Epoch [51], Loss: 0.171, Accuracy: 94.15%\n",
      "[52,   339] train loss: 0.244\n",
      "Validation: Epoch [52], Loss: 0.178, Accuracy: 94.31%\n",
      "[53,   339] train loss: 0.219\n",
      "Validation: Epoch [53], Loss: 0.159, Accuracy: 94.98%\n",
      "[54,   339] train loss: 0.234\n",
      "Validation: Epoch [54], Loss: 0.224, Accuracy: 92.31%\n",
      "[55,   339] train loss: 0.238\n",
      "Validation: Epoch [55], Loss: 0.182, Accuracy: 94.15%\n",
      "[56,   339] train loss: 0.227\n",
      "Validation: Epoch [56], Loss: 0.156, Accuracy: 94.65%\n",
      "[57,   339] train loss: 0.213\n",
      "Validation: Epoch [57], Loss: 0.154, Accuracy: 95.15%\n",
      "[58,   339] train loss: 0.218\n",
      "Validation: Epoch [58], Loss: 0.154, Accuracy: 95.32%\n",
      "[59,   339] train loss: 0.216\n",
      "Validation: Epoch [59], Loss: 0.162, Accuracy: 94.31%\n",
      "[60,   339] train loss: 0.236\n",
      "Validation: Epoch [60], Loss: 0.146, Accuracy: 95.32%\n",
      "[61,   339] train loss: 0.224\n",
      "Validation: Epoch [61], Loss: 0.162, Accuracy: 94.15%\n",
      "[62,   339] train loss: 0.222\n",
      "Validation: Epoch [62], Loss: 0.158, Accuracy: 94.31%\n",
      "[63,   339] train loss: 0.226\n",
      "Validation: Epoch [63], Loss: 0.162, Accuracy: 94.65%\n",
      "[64,   339] train loss: 0.200\n",
      "Validation: Epoch [64], Loss: 0.178, Accuracy: 94.15%\n",
      "[65,   339] train loss: 0.240\n",
      "Validation: Epoch [65], Loss: 0.161, Accuracy: 94.65%\n",
      "[66,   339] train loss: 0.222\n",
      "Validation: Epoch [66], Loss: 0.154, Accuracy: 95.32%\n",
      "[67,   339] train loss: 0.217\n",
      "Validation: Epoch [67], Loss: 0.146, Accuracy: 95.65%\n",
      "[68,   339] train loss: 0.207\n",
      "Validation: Epoch [68], Loss: 0.196, Accuracy: 93.14%\n",
      "[69,   339] train loss: 0.221\n",
      "Validation: Epoch [69], Loss: 0.184, Accuracy: 93.98%\n",
      "[70,   339] train loss: 0.227\n",
      "Validation: Epoch [70], Loss: 0.194, Accuracy: 93.14%\n",
      "[71,   339] train loss: 0.226\n",
      "Validation: Epoch [71], Loss: 0.194, Accuracy: 94.31%\n",
      "[72,   339] train loss: 0.214\n",
      "Validation: Epoch [72], Loss: 0.159, Accuracy: 94.48%\n",
      "[73,   339] train loss: 0.239\n",
      "Validation: Epoch [73], Loss: 0.167, Accuracy: 93.98%\n",
      "[74,   339] train loss: 0.223\n",
      "Validation: Epoch [74], Loss: 0.148, Accuracy: 94.98%\n",
      "[75,   339] train loss: 0.229\n",
      "Validation: Epoch [75], Loss: 0.152, Accuracy: 94.98%\n",
      "[76,   339] train loss: 0.217\n",
      "Validation: Epoch [76], Loss: 0.177, Accuracy: 94.82%\n",
      "[77,   339] train loss: 0.245\n",
      "Validation: Epoch [77], Loss: 0.162, Accuracy: 94.82%\n",
      "[78,   339] train loss: 0.205\n",
      "Validation: Epoch [78], Loss: 0.147, Accuracy: 95.32%\n",
      "[79,   339] train loss: 0.223\n",
      "Validation: Epoch [79], Loss: 0.184, Accuracy: 94.15%\n",
      "[80,   339] train loss: 0.228\n",
      "Validation: Epoch [80], Loss: 0.151, Accuracy: 94.98%\n",
      "[81,   339] train loss: 0.226\n",
      "Validation: Epoch [81], Loss: 0.145, Accuracy: 95.48%\n",
      "[82,   339] train loss: 0.239\n",
      "Validation: Epoch [82], Loss: 0.159, Accuracy: 94.98%\n",
      "[83,   339] train loss: 0.234\n",
      "Validation: Epoch [83], Loss: 0.174, Accuracy: 93.81%\n",
      "[84,   339] train loss: 0.201\n",
      "Validation: Epoch [84], Loss: 0.169, Accuracy: 94.48%\n",
      "[85,   339] train loss: 0.199\n",
      "Validation: Epoch [85], Loss: 0.160, Accuracy: 94.48%\n",
      "[86,   339] train loss: 0.211\n",
      "Validation: Epoch [86], Loss: 0.177, Accuracy: 94.15%\n",
      "[87,   339] train loss: 0.226\n",
      "Validation: Epoch [87], Loss: 0.153, Accuracy: 95.32%\n",
      "[88,   339] train loss: 0.223\n",
      "Validation: Epoch [88], Loss: 0.160, Accuracy: 94.15%\n",
      "[89,   339] train loss: 0.234\n",
      "Validation: Epoch [89], Loss: 0.156, Accuracy: 94.98%\n",
      "[90,   339] train loss: 0.210\n",
      "Validation: Epoch [90], Loss: 0.156, Accuracy: 94.82%\n",
      "[91,   339] train loss: 0.224\n",
      "Validation: Epoch [91], Loss: 0.166, Accuracy: 94.98%\n",
      "[92,   339] train loss: 0.213\n",
      "Validation: Epoch [92], Loss: 0.146, Accuracy: 94.98%\n",
      "[93,   339] train loss: 0.209\n",
      "Validation: Epoch [93], Loss: 0.166, Accuracy: 94.15%\n",
      "[94,   339] train loss: 0.228\n",
      "Validation: Epoch [94], Loss: 0.176, Accuracy: 94.31%\n",
      "[95,   339] train loss: 0.212\n",
      "Validation: Epoch [95], Loss: 0.153, Accuracy: 94.98%\n",
      "[96,   339] train loss: 0.193\n",
      "Validation: Epoch [96], Loss: 0.149, Accuracy: 95.15%\n",
      "[97,   339] train loss: 0.187\n",
      "Validation: Epoch [97], Loss: 0.140, Accuracy: 95.32%\n",
      "[98,   339] train loss: 0.214\n",
      "Validation: Epoch [98], Loss: 0.143, Accuracy: 94.98%\n",
      "[99,   339] train loss: 0.223\n",
      "Validation: Epoch [99], Loss: 0.172, Accuracy: 93.81%\n",
      "[100,   339] train loss: 0.218\n",
      "Validation: Epoch [100], Loss: 0.172, Accuracy: 94.15%\n",
      "Finished Training: total time in seconds = 590.1529176235199\n"
     ]
    }
   ],
   "source": [
    "import time\n",
    "torch.manual_seed(1234)\n",
    "# the code is adapted from lab 8 computer vision \n",
    "\n",
    "\n",
    "t0 = time.time()\n",
    "train_losses = []  \n",
    "val_losses = [] \n",
    "num_epochs = 100 ###\n",
    "for epoch in range(num_epochs): \n",
    "\n",
    "    running_loss = 0.0\n",
    "    for i, data in enumerate(trainloader, 0):\n",
    "        # get the inputs; data is a list of [inputs, labels]\n",
    "        inputs, labels = data\n",
    "\n",
    "        # zero the parameter gradients\n",
    "        optimizer.zero_grad()\n",
    "\n",
    "        # forward + backward + optimize\n",
    "        outputs = net(inputs)\n",
    "        loss = criterion(outputs, labels)\n",
    "        loss.backward()\n",
    "        optimizer.step()\n",
    "\n",
    "        # print statistics (loss.item() returns the mean loss in the mini-batch)\n",
    "        running_loss += loss.item()\n",
    "        if i %339 ==338 :    # print every 400 mini-batches\n",
    "            print('[%d, %5d] train loss: %.3f' %\n",
    "                  (epoch + 1, i + 1, running_loss / 338))\n",
    "            train_losses.append(running_loss/339) ###\n",
    "            \n",
    "            running_loss = 0.0\n",
    "\n",
    "\n",
    "    # Validation loop\n",
    "    net.eval()  # set model to evaluation mode\n",
    "    val_loss = 0.0\n",
    "    val_correct = 0\n",
    "    val_total = 0\n",
    "    with torch.no_grad():  # disable gradient computation for validation\n",
    "        for val_data in valloader:\n",
    "            val_inputs, val_labels = val_data\n",
    "            val_outputs = net(val_inputs)\n",
    "            val_loss += criterion(val_outputs, val_labels).item()\n",
    "            _, val_predicted = val_outputs.max(1)\n",
    "            val_total += val_labels.size(0)\n",
    "            val_correct += val_predicted.eq(val_labels).sum().item()\n",
    "\n",
    "    # Print validation statistics\n",
    "    val_loss /= len(valloader)\n",
    "    val_losses.append(val_loss) ####\n",
    "    val_accuracy = 100.0 * val_correct / val_total\n",
    "    print('Validation: Epoch [%d], Loss: %.3f, Accuracy: %.2f%%' %\n",
    "          (epoch + 1, val_loss, val_accuracy))\n",
    "\n",
    "print('Finished Training: total time in seconds =', time.time() - t0)"
   ]
  },
  {
   "cell_type": "markdown",
   "metadata": {
    "id": "U7DWw0Nrfvox"
   },
   "source": [
    "### save the trained model"
   ]
  },
  {
   "cell_type": "code",
   "execution_count": null,
   "metadata": {
    "id": "a7ZcIkD5OsZf"
   },
   "outputs": [],
   "source": [
    "import os \n",
    "import shutil\n",
    "torch.manual_seed(1234)\n",
    "\n",
    "model_CNN_BASIC_path = os.path.join(GOOGLE_DRIVE_PATH, 'Models','CNN_BASIC.pth')\n",
    "torch.save(net.state_dict(), model_CNN_BASIC_path)\n",
    "\n"
   ]
  },
  {
   "cell_type": "markdown",
   "metadata": {
    "id": "m7Sb8VmfoY3c"
   },
   "source": [
    "### load model"
   ]
  },
  {
   "cell_type": "code",
   "execution_count": null,
   "metadata": {
    "colab": {
     "base_uri": "https://localhost:8080/"
    },
    "id": "x2ykFNaEoYF0",
    "outputId": "d0f00ce4-8652-4763-9939-1b05563010f3"
   },
   "outputs": [
    {
     "data": {
      "text/plain": [
       "<All keys matched successfully>"
      ]
     },
     "execution_count": 28,
     "metadata": {},
     "output_type": "execute_result"
    }
   ],
   "source": [
    "\n",
    "model_CNN_BASIC_path = os.path.join(GOOGLE_DRIVE_PATH, 'Models','CNN_BASIC.pth')\n",
    "torch.manual_seed(1234)\n",
    "net = Net()\n",
    "net.load_state_dict(torch.load(model_CNN_BASIC_path))\n"
   ]
  },
  {
   "cell_type": "markdown",
   "metadata": {
    "id": "RndozLIoftkr"
   },
   "source": [
    "# Test the network on the test data\n",
    "### testing on some examles ofthe testset"
   ]
  },
  {
   "cell_type": "code",
   "execution_count": null,
   "metadata": {
    "colab": {
     "base_uri": "https://localhost:8080/",
     "height": 247
    },
    "id": "fo9uhgeUQWy7",
    "outputId": "d546b5d6-53e2-4569-d336-9ab3db9c7223"
   },
   "outputs": [
    {
     "name": "stderr",
     "output_type": "stream",
     "text": [
      "WARNING:matplotlib.image:Clipping input data to the valid range for imshow with RGB data ([0..1] for floats or [0..255] for integers).\n"
     ]
    },
    {
     "name": "stdout",
     "output_type": "stream",
     "text": [
      "torch.Size([4, 3, 32, 32])\n"
     ]
    },
    {
     "data": {
      "image/png": "[encoded data removed]",
      "text/plain": [
       "<Figure size 640x480 with 1 Axes>"
      ]
     },
     "metadata": {},
     "output_type": "display_data"
    },
    {
     "name": "stdout",
     "output_type": "stream",
     "text": [
      "Ground-truth: ['1', '2', '0', '0']\n"
     ]
    }
   ],
   "source": [
    "# the code is adapted from lab 8 computer vision\n",
    "\n",
    "dataiter = iter(testloader)\n",
    "images, labels = next(dataiter)\n",
    "print(images.shape)\n",
    "\n",
    "# show images and print labels\n",
    "imshow(torchvision.utils.make_grid(images))\n",
    "first_labels = [classes[labels[j]] for j in range(4)]\n",
    "print('Ground-truth:', first_labels)"
   ]
  },
  {
   "cell_type": "code",
   "execution_count": null,
   "metadata": {
    "colab": {
     "base_uri": "https://localhost:8080/"
    },
    "id": "IwuCM0o1UM3x",
    "outputId": "26de382d-27aa-4844-ef09-e33db428714c"
   },
   "outputs": [
    {
     "name": "stdout",
     "output_type": "stream",
     "text": [
      "torch.Size([4, 3])\n"
     ]
    }
   ],
   "source": [
    "outputs = net(images)\n",
    "print(outputs.shape)"
   ]
  },
  {
   "cell_type": "code",
   "execution_count": null,
   "metadata": {
    "colab": {
     "base_uri": "https://localhost:8080/"
    },
    "id": "PP9p9OHiUQFo",
    "outputId": "45f9568e-c298-40a9-ae98-fd2c8dfad8d0"
   },
   "outputs": [
    {
     "name": "stdout",
     "output_type": "stream",
     "text": [
      "Predicted: ['1', '1', '1', '0']\n"
     ]
    }
   ],
   "source": [
    "_, predicted = torch.max(outputs, 1)\n",
    "first_predicted = [classes[predicted[j]] for j in range(4)]\n",
    "print('Predicted:', first_predicted)"
   ]
  },
  {
   "cell_type": "markdown",
   "metadata": {
    "id": "bZR4S5GxwOV_"
   },
   "source": [
    "### testing the network on the entire testset & confusion matrix & predict time "
   ]
  },
  {
   "cell_type": "code",
   "execution_count": null,
   "metadata": {
    "colab": {
     "base_uri": "https://localhost:8080/",
     "height": 557
    },
    "id": "G33iXPdn1X0D",
    "outputId": "327a5816-d1a5-4756-fc33-a0fbc4832bbd"
   },
   "outputs": [
    {
     "name": "stdout",
     "output_type": "stream",
     "text": [
      "Time elapsed: 2.14 seconds\n",
      "Accuracy of the network on the 458 test images: 94.75982532751091%\n",
      "[[ 41   9   1]\n",
      " [  2 384   2]\n",
      " [  1   9   9]]\n",
      "[80.39215686 98.96907216 47.36842105]\n"
     ]
    },
    {
     "data": {
      "image/png": "[encoded data removed]",
      "text/plain": [
       "<Figure size 640x480 with 2 Axes>"
      ]
     },
     "metadata": {},
     "output_type": "display_data"
    }
   ],
   "source": [
    "from sklearn.metrics import confusion_matrix\n",
    "from sklearn.metrics import ConfusionMatrixDisplay\n",
    "import time\n",
    "\n",
    "\n",
    "torch.manual_seed(1234)\n",
    "net.eval()\n",
    "\n",
    "# Estimate average accuracy\n",
    "correct = 0\n",
    "total = 0\n",
    "# Initialize the prediction and label lists(tensors)\n",
    "predlist=torch.zeros(0,dtype=torch.long, device='cpu')\n",
    "lbllist=torch.zeros(0,dtype=torch.long, device='cpu')\n",
    "\n",
    "\n",
    "start_time = time.time()\n",
    "\n",
    "with torch.no_grad():             # Avoid backprop at test \n",
    "    for i, (inputs, labels) in enumerate(dataloaders['test']):\n",
    "        inputs = inputs.to(device)\n",
    "        labels = labels.to(device)\n",
    "        outputs = net(inputs)\n",
    "        _, predicted = torch.max(outputs, 1)\n",
    "        total += labels.size(0)\n",
    "        correct += (predicted == labels).sum().item()\n",
    "\n",
    "        # Append batch prediction results\n",
    "        predlist=torch.cat([predlist,predicted.view(-1).cpu()])\n",
    "        lbllist=torch.cat([lbllist,labels.view(-1).cpu()])\n",
    "\n",
    "end_time = time.time()\n",
    "\n",
    "# Time elapsed\n",
    "elapsed_time = end_time - start_time\n",
    "print(\"Time elapsed: {:.2f} seconds\".format(elapsed_time))\n",
    "\n",
    "print(f\"Accuracy of the network on the 458 test images: {100 * correct / total}%\")\n",
    "# Confusion matrix\n",
    "conf_mat=confusion_matrix(lbllist.numpy(), predlist.numpy())\n",
    "print(conf_mat)\n",
    "\n",
    "# Per-class accuracy\n",
    "class_accuracy=100*conf_mat.diagonal()/conf_mat.sum(1)\n",
    "print(class_accuracy)\n",
    "\n",
    "ConfusionMatrixDisplay.from_predictions(lbllist.numpy(), predlist.numpy())\n",
    "plt.show()"
   ]
  },
  {
   "cell_type": "code",
   "execution_count": null,
   "metadata": {
    "id": "SqMJ4nkM1aww"
   },
   "outputs": [],
   "source": []
  }
 ],
 "metadata": {
  "colab": {
   "provenance": [],
   "toc_visible": true
  },
  "gpuClass": "standard",
  "kernelspec": {
   "display_name": "Python 3 (ipykernel)",
   "language": "python",
   "name": "python3"
  },
  "language_info": {
   "codemirror_mode": {
    "name": "ipython",
    "version": 3
   },
   "file_extension": ".py",
   "mimetype": "text/x-python",
   "name": "python",
   "nbconvert_exporter": "python",
   "pygments_lexer": "ipython3",
   "version": "3.10.9"
  }
 },
 "nbformat": 4,
 "nbformat_minor": 1
}
